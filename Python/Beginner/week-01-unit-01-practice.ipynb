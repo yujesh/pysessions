{
 "cells": [
  {
   "cell_type": "markdown",
   "metadata": {},
   "source": [
    "# Practice Session\n",
    "---"
   ]
  },
  {
   "cell_type": "markdown",
   "metadata": {},
   "source": [
    "### H/W: Work on all operators with all types"
   ]
  },
  {
   "cell_type": "markdown",
   "metadata": {},
   "source": [
    "**Find the results below**\n",
    "\n",
    "- 2 + 1\n",
    "- 2 + 1.8\n",
    "- 2 + False\n",
    "- 2 + '3'\n",
    "- 2 - 1\n",
    "- 2 - 1.8\n",
    "- 2 - False\n",
    "- 2 - '3'\n",
    "- 2 / 1\n",
    "- 2 / 1.8\n",
    "- 2 / False\n",
    "- 2 / True\n",
    "- 2 / '3'\n",
    "- 2 // 1\n",
    "- 2 // 1.8\n",
    "- 2 // False\n",
    "- 2 // True\n",
    "- 2 // '3'\n",
    "- 2 * 1\n",
    "- 2 * 1.8\n",
    "- 2 * False\n",
    "- 2 * '3'\n",
    "- 2 \\** 1\n",
    "- 2 \\** 1.8\n",
    "- 2 \\** False\n",
    "- 2 \\** True\n",
    "- 2 \\** '3'\n",
    "\n",
    "\n",
    "\n",
    "*Note: use each cell for each operations*\n",
    "\n",
    "*Note: Leave result as it is, either it gives error*"
   ]
  },
  {
   "cell_type": "code",
   "execution_count": null,
   "metadata": {
    "collapsed": true
   },
   "outputs": [],
   "source": []
  },
  {
   "cell_type": "code",
   "execution_count": null,
   "metadata": {
    "collapsed": true
   },
   "outputs": [],
   "source": []
  },
  {
   "cell_type": "code",
   "execution_count": null,
   "metadata": {
    "collapsed": true
   },
   "outputs": [],
   "source": []
  },
  {
   "cell_type": "markdown",
   "metadata": {},
   "source": [
    "### H/W: got thorugh all string methods"
   ]
  },
  {
   "cell_type": "markdown",
   "metadata": {
    "collapsed": true
   },
   "source": [
    "**see help text and fond out what it does**\n",
    "\n",
    "- capitalize\n",
    "- casefold\n",
    "- center\n",
    "- count\n",
    "- encode\n",
    "- endswith\n",
    "- expandtabs\n",
    "- find\n",
    "- format\n",
    "- format_map\n",
    "- index\n",
    "- isalnum\n",
    "- isalpha\n",
    "- isdecimal\n",
    "- isdigit\n",
    "- isidentifier\n",
    "- islower\n",
    "- isnumeric\n",
    "- isprintable\n",
    "- isspace\n",
    "- istitle\n",
    "- isupper\n",
    "- join\n",
    "- ljust\n",
    "- lower\n",
    "- lstrip\n",
    "- maketrans\n",
    "- partition\n",
    "- replace\n",
    "- rfind\n",
    "- rindex\n",
    "- rjust\n",
    "- rpartition\n",
    "- rsplit\n",
    "- rstrip\n",
    "- split\n",
    "- splitlines\n",
    "- startswith\n",
    "- strip\n",
    "- swapcase\n",
    "- title\n",
    "- translate\n",
    "- upper\n",
    "- zfill"
   ]
  },
  {
   "cell_type": "code",
   "execution_count": null,
   "metadata": {
    "collapsed": true
   },
   "outputs": [],
   "source": []
  },
  {
   "cell_type": "code",
   "execution_count": null,
   "metadata": {
    "collapsed": true
   },
   "outputs": [],
   "source": []
  },
  {
   "cell_type": "code",
   "execution_count": null,
   "metadata": {
    "collapsed": true
   },
   "outputs": [],
   "source": []
  }
 ],
 "metadata": {
  "kernelspec": {
   "display_name": "Python [default]",
   "language": "python",
   "name": "python3"
  },
  "language_info": {
   "codemirror_mode": {
    "name": "ipython",
    "version": 3
   },
   "file_extension": ".py",
   "mimetype": "text/x-python",
   "name": "python",
   "nbconvert_exporter": "python",
   "pygments_lexer": "ipython3",
   "version": "3.5.2"
  }
 },
 "nbformat": 4,
 "nbformat_minor": 0
}
