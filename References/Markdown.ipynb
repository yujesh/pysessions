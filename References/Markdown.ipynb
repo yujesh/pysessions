{
 "cells": [
  {
   "cell_type": "markdown",
   "metadata": {},
   "source": [
    "# Markdown Basics\n",
    "---\n",
    "\n",
    "Each cell can be of type markdown or code. To change between markdown and code use *Cell* Menu from Menubar."
   ]
  },
  {
   "cell_type": "markdown",
   "metadata": {},
   "source": [
    "#### Input\n",
    "---\n",
    "```markdown\n",
    "# The largest heading\n",
    "## The second largest heading\n",
    "###### The smallest heading\n",
    "```\n",
    "\n",
    "#### Output\n",
    "---\n",
    "\n",
    "# The largest heading\n",
    "## The second largest heading\n",
    "###### The smallest heading"
   ]
  },
  {
   "cell_type": "markdown",
   "metadata": {},
   "source": [
    "#### Input\n",
    "---\n",
    "\n",
    "```markdown\n",
    "**This is bold text**\n",
    "\n",
    "*This is italic*\n",
    "\n",
    "~~This is marked out~~\n",
    "\n",
    "**this is bold _italics_ inside**\n",
    "\n",
    "*this is italic __bold__ inside*\n",
    "```\n",
    "\n",
    "#### Output\n",
    "---\n",
    "\n",
    "\n",
    "**This is bold text**\n",
    "\n",
    "*This is italic*\n",
    "\n",
    "~~This is marked out~~\n",
    "\n",
    "**this is bold _italics_ inside**\n",
    "\n",
    "*this is italic __bold__ inside*"
   ]
  },
  {
   "cell_type": "markdown",
   "metadata": {},
   "source": [
    "#### Input\n",
    "---\n",
    "\n",
    "```markdown\n",
    "this is a paragraph.\n",
    "this is on same line as above.\n",
    "\n",
    "To break a new paragraph you have to place a empty line above.\n",
    "\n",
    "> This quoted text\n",
    "\n",
    "+ Item 1\n",
    "+ Item 2\n",
    "    - Can use any of + - * characters\n",
    "    - SubItem 2\n",
    "    - Creates bulleted text\n",
    "\n",
    "\n",
    "1. While this is numbered\n",
    "2. second item\n",
    "6. only number is required to make this numbered list\n",
    "```\n",
    "\n",
    "#### Output\n",
    "---\n",
    "this is a paragraph.\n",
    "this is on same line as above.\n",
    "\n",
    "To break a new paragraph you have to place a empty line above.\n",
    "\n",
    "> this is quoted\n",
    "\n",
    "+ Item 1\n",
    "+ Item 2\n",
    "    - Can use any of + - * characters\n",
    "    - SubItem 2\n",
    "    - Creates bulleted text\n",
    "\n",
    "\n",
    "1. While this is numbered\n",
    "2. second item\n",
    "6. only number is required to make this numbered list"
   ]
  },
  {
   "cell_type": "markdown",
   "metadata": {},
   "source": [
    "Go through this [page](http://markdown-guide.readthedocs.org/en/latest/basics.html) for how ouput resembles to html."
   ]
  },
  {
   "cell_type": "code",
   "execution_count": null,
   "metadata": {
    "collapsed": true
   },
   "outputs": [],
   "source": []
  }
 ],
 "metadata": {
  "kernelspec": {
   "display_name": "Python 3",
   "language": "python",
   "name": "python3"
  },
  "language_info": {
   "codemirror_mode": {
    "name": "ipython",
    "version": 3
   },
   "file_extension": ".py",
   "mimetype": "text/x-python",
   "name": "python",
   "nbconvert_exporter": "python",
   "pygments_lexer": "ipython3",
   "version": "3.5.2"
  }
 },
 "nbformat": 4,
 "nbformat_minor": 0
}
